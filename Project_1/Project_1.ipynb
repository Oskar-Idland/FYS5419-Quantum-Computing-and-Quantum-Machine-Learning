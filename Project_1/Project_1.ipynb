{
 "cells": [
  {
   "cell_type": "markdown",
   "metadata": {},
   "source": [
    "# Imports"
   ]
  },
  {
   "cell_type": "code",
   "execution_count": 1,
   "metadata": {},
   "outputs": [],
   "source": [
    "import numpy as np\n",
    "import sympy as sp\n",
    "import matplotlib.pyplot as plt\n",
    "np.set_printoptions(precision=3, sign=' ')\n",
    "tensor_prod = np.kron\n",
    "\n",
    "import qiskit as qk\n",
    "from qiskit import QuantumCircuit\n",
    "from qiskit_aer import Aer, AerSimulator\n",
    "from qiskit.visualization import plot_histogram"
   ]
  },
  {
   "cell_type": "markdown",
   "metadata": {},
   "source": [
    "# a)"
   ]
  },
  {
   "cell_type": "markdown",
   "metadata": {},
   "source": [
    "## Functions"
   ]
  },
  {
   "cell_type": "code",
   "execution_count": 2,
   "metadata": {},
   "outputs": [],
   "source": [
    "def qubits():\n",
    "    '''\n",
    "    Creates the qubits |0⟩ and |1⟩.\n",
    "    \n",
    "    Returns\n",
    "    -------\n",
    "        q0: np.ndarray\n",
    "            |0⟩ = [1, 0]\n",
    "        q1: np.ndarray\n",
    "            |1⟩ = [0, 1]\n",
    "    '''\n",
    "    q0 = np.array([1, 0])\n",
    "    q1 = np.array([0, 1])\n",
    "    return q0, q1\n",
    "\n",
    "def pauli():\n",
    "    '''\n",
    "    Creates the Pauli matrices σ_x, σ_y, and σ_z.\n",
    "    \n",
    "    Returns\n",
    "    -------\n",
    "        σ_x: np.ndarray\n",
    "            Pauli X\n",
    "        σ_y: np.ndarray\n",
    "            Pauli Y\n",
    "        σ_z: np.ndarray\n",
    "            Pauli Z\n",
    "    '''\n",
    "    σ_x = np.array([[0, 1], [1, 0]]) # Pauli X\n",
    "    σ_y = np.array([[0, -1j], [1j, 0]]) # Pauli Y\n",
    "    σ_z = np.array([[1, 0], [0, -1]]) # Pauli Z\n",
    "    return σ_x, σ_y, σ_z\n",
    "\n",
    "def hadamard():\n",
    "    '''\n",
    "    Creates the Hadamard gate.\n",
    "    \n",
    "    Returns\n",
    "    -------\n",
    "        H: np.ndarray\n",
    "            Hadamard gate\n",
    "    '''\n",
    "    H = 1/np.sqrt(2) * np.array([[1, 1], [1, -1]]) # Hadamard gate\n",
    "    return H\n",
    "\n",
    "def phase():\n",
    "    '''\n",
    "    Creates the phase gate.\n",
    "\n",
    "    Returns\n",
    "    -------\n",
    "        S: np.ndarray\n",
    "            Phase gate\n",
    "    '''\n",
    "    S = np.array([[1, 0], [0, 1j]]) # Phase gate\n",
    "    return S\n",
    "\n",
    "def cnot():\n",
    "    '''\n",
    "    Creates the CNOT gate.\n",
    "    \n",
    "    Returns\n",
    "    -------\n",
    "        CNOT: np.ndarray\n",
    "            CNOT gate\n",
    "    '''\n",
    "    CNOT = np.array([[1, 0, 0, 0], [0, 1, 0, 0], [0, 0, 0, 1], [0, 0, 1, 0]]) # CNOT gate\n",
    "    return CNOT\n",
    "\n",
    "def create_bell_states():\n",
    "    '''\n",
    "    Creates the Bell states |Φ⁺⟩, |Φ⁻⟩, |Ψ^+⟩, and |Ψ⁻⟩.\n",
    "    \n",
    "    Returns\n",
    "    -------\n",
    "        Φ_00: np.ndarray\n",
    "            |Φ⁺⟩ = (|00⟩ + |11⟩)/√2\n",
    "        Φ_10: np.ndarray\n",
    "            |Φ⁻⟩ = (|00⟩ - |11⟩)/√2\n",
    "        Ψ_01: np.ndarray\n",
    "            |Ψ⁺⟩ = (|01⟩ + |10⟩)/√2\n",
    "        Ψ_11: np.ndarray\n",
    "            |Ψ⁻⟩ = (|01⟩ - |10⟩)/√2\n",
    "    '''\n",
    "    q0, q1 = qubits()\n",
    "\n",
    "    H = hadamard()\n",
    "    CNOT = cnot()\n",
    "\n",
    "    q0_H = H @ q0\n",
    "    q1_H = H @ q1\n",
    "\n",
    "    Φ_00 = CNOT @ tensor_prod(q0_H, q0) # |Φ⁺⟩ = (|00⟩ + |11⟩)/√2\n",
    "    Φ_10 = CNOT @ tensor_prod(q1_H, q0) # |Φ⁻⟩ = (|00⟩ - |11⟩)/√2\n",
    "    Ψ_01 = CNOT @ tensor_prod(q0_H, q1) # |Ψ⁺⟩ = (|01⟩ + |10⟩)/√2\n",
    "    Ψ_11 = CNOT @ tensor_prod(q1_H, q1) # |Ψ⁻⟩ = (|01⟩ - |10⟩)/√2\n",
    "    \n",
    "    return Φ_00, Φ_10, Ψ_01, Ψ_11\n",
    "\n",
    "def create_system_vectors(n_qubits: int):\n",
    "    \"\"\"\n",
    "    Create the system vectors for a given number of qubits.\n",
    "    \n",
    "    Parameters\n",
    "    ----------\n",
    "    n_qubits : int\n",
    "        The number of qubits in the system.\n",
    "        \n",
    "    Returns\n",
    "    -------\n",
    "    system_vectors : list[np.ndarray]\n",
    "        A list of system vectors, where each vector represents a possible state of the qubits.\n",
    "    \"\"\"\n",
    "    \n",
    "    q0, q1 = qubits()\n",
    "    system_vectors = []\n",
    "    for i in range(2**n_qubits):\n",
    "        binary_str = f'{i:0{n_qubits}b}'\n",
    "        state = np.array([1])\n",
    "        for bit in binary_str:\n",
    "            state = tensor_prod(state, q0 if bit == '0' else q1)\n",
    "        system_vectors.append(state)\n",
    "        \n",
    "    return system_vectors\n",
    "    \n",
    "        \n",
    "\n",
    "def measure_qubit(qubit: int, bell_state: np.ndarray):\n",
    "    '''\n",
    "    Makes a measurement on a specified cubit in a Bell state\n",
    "    \n",
    "    Parameters\n",
    "    ----------\n",
    "        qubit: int\n",
    "            Which cubit to measure. In a two-qubit state one could pass either 0 or 1\n",
    "        bell_state: np.ndarray\n",
    "            The state to measure\n",
    "        \n",
    "    Returns\n",
    "    -------\n",
    "        state: int\n",
    "            What state the qubit is in. Either 0 or 1\n",
    "    '''\n",
    "    n = len(bell_state)\n",
    "    n_qubits = int(np.log2(n))\n",
    "    \n",
    "    measurement_probabilities = {'0': 0, '1': 0}\n",
    "    for i in range(n):\n",
    "        binary_str = f'{i:0{n_qubits}b}'[qubit]\n",
    "        prob = bell_state[i]\n",
    "        measurement_probabilities[binary_str] += np.abs(prob)**2\n",
    "        \n",
    "    # Weighted random choice depending on the state\n",
    "    result = np.random.choice([0, 1], p=[*measurement_probabilities.values()])\n",
    "\n",
    "    return result\n",
    "\n",
    "def measure_all_qubits(bell_state: np.ndarray):\n",
    "    '''\n",
    "    Makes a measurement on all qubits in a Bell state\n",
    "\n",
    "    Parameters\n",
    "    ----------\n",
    "        bell_state: np.ndarray\n",
    "            The state to measure\n",
    "\n",
    "    Returns\n",
    "    -------\n",
    "        state: str\n",
    "            What state the qubits are in. For a two-qubit system, this would be either '00', '01', '10', or '11'\n",
    "    '''\n",
    "    \n",
    "    n = len(bell_state)\n",
    "    n_qubits = int(np.log2(n))\n",
    "    \n",
    "    measurement_probabilities = {binary_str: 0 for binary_str in [f'{i:0{n_qubits}b}' for i in range(n)]}\n",
    "    for i, bin_str in enumerate(measurement_probabilities.keys()):\n",
    "        prob = bell_state[i]\n",
    "        measurement_probabilities[bin_str] += np.abs(prob)**2\n",
    "        \n",
    "    # Weighted random choice depending on the state\n",
    "    result = np.random.choice([*measurement_probabilities.keys()], p=[*measurement_probabilities.values()])\n",
    "    return result"
   ]
  },
  {
   "cell_type": "markdown",
   "metadata": {},
   "source": [
    "### Playing with Qubits\n",
    "- The following explores how the qubit states can be combined to form composite states. \n",
    "- I also explore how their connection to the bit string representation of the state. \n",
    "- There seems to be a natural connection between the bit string representation and the order of the qubits in the tensor product."
   ]
  },
  {
   "cell_type": "code",
   "execution_count": 3,
   "metadata": {},
   "outputs": [
    {
     "name": "stdout",
     "output_type": "stream",
     "text": [
      "[1 0 0 0] [1 0 0 0] 00\n",
      "[0 1 0 0] [0 1 0 0] 01\n",
      "[0 0 1 0] [0 0 1 0] 10\n",
      "[0 0 0 1] [0 0 0 1] 11\n"
     ]
    }
   ],
   "source": [
    "# Checking the states being as expected and their corresponding binary representation\n",
    "v1, v2, v3, v4 = create_system_vectors(2)\n",
    "\n",
    "n = 4\n",
    "bin_strs = [f'{i:0{int(np.log2(n))}b}' for i in range(n)]\n",
    "\n",
    "q0, q1 = qubits()\n",
    "print(tensor_prod(q0, q0), v1, bin_strs[0])\n",
    "print(tensor_prod(q0, q1), v2, bin_strs[1])\n",
    "print(tensor_prod(q1, q0), v3, bin_strs[2])\n",
    "print(tensor_prod(q1, q1), v4, bin_strs[3])"
   ]
  },
  {
   "cell_type": "code",
   "execution_count": 4,
   "metadata": {},
   "outputs": [
    {
     "name": "stdout",
     "output_type": "stream",
     "text": [
      "[1 0 0 0 0 0 0 0] [1 0 0 0 0 0 0 0] 000\n",
      "[0 1 0 0 0 0 0 0] [0 1 0 0 0 0 0 0] 001\n",
      "[0 0 1 0 0 0 0 0] [0 0 1 0 0 0 0 0] 010\n",
      "[0 0 0 1 0 0 0 0] [0 0 0 1 0 0 0 0] 011\n",
      "[0 0 0 0 1 0 0 0] [0 0 0 0 1 0 0 0] 100\n",
      "[0 0 0 0 0 1 0 0] [0 0 0 0 0 1 0 0] 101\n",
      "[0 0 0 0 0 0 1 0] [0 0 0 0 0 0 1 0] 110\n",
      "[0 0 0 0 0 0 0 1] [0 0 0 0 0 0 0 1] 111\n"
     ]
    }
   ],
   "source": [
    "# Checking the states being as expected\n",
    "v1, v2, v3, v4, v5, v6, v7, v8 = create_system_vectors(3)\n",
    "\n",
    "n = 8\n",
    "bin_strs = [f'{i:0{int(np.log2(n))}b}' for i in range(n)]\n",
    "\n",
    "q0, q1 = qubits()\n",
    "print(tensor_prod(tensor_prod(q0, q0), q0), v1, bin_strs[0])\n",
    "print(tensor_prod(tensor_prod(q0, q0), q1), v2, bin_strs[1])\n",
    "print(tensor_prod(tensor_prod(q0, q1), q0), v3, bin_strs[2])\n",
    "print(tensor_prod(tensor_prod(q0, q1), q1), v4, bin_strs[3])\n",
    "print(tensor_prod(tensor_prod(q1, q0), q0), v5, bin_strs[4])\n",
    "print(tensor_prod(tensor_prod(q1, q0), q1), v6, bin_strs[5])\n",
    "print(tensor_prod(tensor_prod(q1, q1), q0), v7, bin_strs[6])\n",
    "print(tensor_prod(tensor_prod(q1, q1), q1), v8, bin_strs[7])"
   ]
  },
  {
   "cell_type": "markdown",
   "metadata": {},
   "source": [
    "## Exploring Pauli Matrices"
   ]
  },
  {
   "cell_type": "code",
   "execution_count": 5,
   "metadata": {},
   "outputs": [
    {
     "name": "stdout",
     "output_type": "stream",
     "text": [
      "σ_x|0⟩ = [0 1]\n",
      "σ_y|0⟩ = [ 0.+0.j  0.+1.j]\n",
      "σ_z|0⟩ = [1 0]\n",
      "\n",
      "σ_x|1⟩ = [1 0]\n",
      "σ_y|1⟩ = [ 0.-1.j  0.+0.j]\n",
      "σ_z|1⟩ = [ 0 -1]\n"
     ]
    }
   ],
   "source": [
    "\n",
    "q0, q1 = qubits()\n",
    "σ_x, σ_y, σ_z = pauli()\n",
    "\n",
    "q0_x = σ_x @ q0\n",
    "q0_y = σ_y @ q0\n",
    "q0_z = σ_z @ q0\n",
    "\n",
    "q1_x = σ_x @ q1\n",
    "q1_y = σ_y @ q1\n",
    "q1_z = σ_z @ q1\n",
    "\n",
    "print(f'σ_x|0⟩ = {q0_x}')\n",
    "print(f'σ_y|0⟩ = {q0_y}')\n",
    "print(f'σ_z|0⟩ = {q0_z}')\n",
    "print()\n",
    "print(f'σ_x|1⟩ = {q1_x}')\n",
    "print(f'σ_y|1⟩ = {q1_y}')\n",
    "print(f'σ_z|1⟩ = {q1_z}')"
   ]
  },
  {
   "cell_type": "markdown",
   "metadata": {},
   "source": [
    "## Exploring Gates"
   ]
  },
  {
   "cell_type": "code",
   "execution_count": 6,
   "metadata": {},
   "outputs": [
    {
     "name": "stdout",
     "output_type": "stream",
     "text": [
      "H|0⟩ = [ 0.707  0.707]\n",
      "S|0⟩ = [ 1.+0.j  0.+0.j]\n",
      "\n",
      "H|1⟩ = [ 0.707 -0.707]\n",
      "S|1⟩ = [ 0.+0.j  0.+1.j]\n"
     ]
    }
   ],
   "source": [
    "H = hadamard()\n",
    "S = phase()\n",
    "\n",
    "q0_H = H @ q0\n",
    "q0_S = S @ q0\n",
    "\n",
    "q1_H = H @ q1\n",
    "q1_S = S @ q1\n",
    "\n",
    "print(f'H|0⟩ = {q0_H}')\n",
    "print(f'S|0⟩ = {q0_S}')\n",
    "print()\n",
    "print(f'H|1⟩ = {q1_H}')\n",
    "print(f'S|1⟩ = {q1_S}')"
   ]
  },
  {
   "attachments": {
    "image.png": {
     "image/png": "[encoded data removed]"
    }
   },
   "cell_type": "markdown",
   "metadata": {},
   "source": [
    "## Bell States\n",
    "Example of a Bell State and how to create it using a circuit. In this case, the Bell State $\\ket{Φ^{+}}$ is created using a Hadamard gate and a CNOT gate: \n",
    "$$\n",
    "\\ket{Φ^{+}} =  \\frac{1}{\\sqrt{2}}\\Big(|00\\rangle + |11\\rangle\\Big)\n",
    "$$ \n",
    "\n",
    "![![image.png](attachment:image.png)](attachment:image.png)"
   ]
  },
  {
   "cell_type": "code",
   "execution_count": 7,
   "metadata": {},
   "outputs": [
    {
     "name": "stdout",
     "output_type": "stream",
     "text": [
      "|Φ⁺⟩ = [ 0.707  0.     0.     0.707]\n",
      "|Φ⁺⟩ = [ 0.707  0.     0.    -0.707]\n",
      "|Ψ⁺⟩ = [ 0.     0.707  0.707  0.   ]\n",
      "|Ψ⁺⟩ = [ 0.     0.707 -0.707  0.   ]\n"
     ]
    }
   ],
   "source": [
    "Φ_00, Φ_10, Ψ_01, Ψ_11 = create_bell_states()\n",
    "\n",
    "print(f'|Φ⁺⟩ = {Φ_00}')\n",
    "print(f'|Φ⁺⟩ = {Φ_10}')\n",
    "print(f'|Ψ⁺⟩ = {Ψ_01}')\n",
    "print(f'|Ψ⁺⟩ = {Ψ_11}')"
   ]
  },
  {
   "cell_type": "markdown",
   "metadata": {},
   "source": [
    "### Alternative Solution"
   ]
  },
  {
   "cell_type": "code",
   "execution_count": 8,
   "metadata": {},
   "outputs": [
    {
     "name": "stdout",
     "output_type": "stream",
     "text": [
      "|Φ⁺⟩ = [ 0.707  0.     0.     0.707]\n",
      "|Φ⁻⟩ = [ 0.707  0.     0.    -0.707]\n",
      "|Ψ⁺⟩ = [ 0.     0.707  0.707  0.   ]\n",
      "|Ψ⁻⟩ = [ 0.     0.707 -0.707  0.   ]\n"
     ]
    }
   ],
   "source": [
    "q_00, q_01, q_10, q_11 = create_system_vectors(2)\n",
    "\n",
    "Φ_00 = 1/np.sqrt(2) * (q_00 + q_11)\n",
    "Φ_10 = 1/np.sqrt(2) * (q_00 - q_11)\n",
    "Ψ_01 = 1/np.sqrt(2) * (q_01 + q_10)\n",
    "Ψ_11 = 1/np.sqrt(2) * (q_01 - q_10)\n",
    "\n",
    "print(f'|Φ⁺⟩ = {Φ_00}')\n",
    "print(f'|Φ⁻⟩ = {Φ_10}')\n",
    "print(f'|Ψ⁺⟩ = {Ψ_01}')\n",
    "print(f'|Ψ⁻⟩ = {Ψ_11}')"
   ]
  },
  {
   "cell_type": "code",
   "execution_count": 9,
   "metadata": {},
   "outputs": [
    {
     "name": "stdout",
     "output_type": "stream",
     "text": [
      "|Φ⁺⟩ =             [ 0.707  0.     0.     0.707]\n",
      "(H ⊗ I)|Φ⁺⟩ =     [ 0.5  0.5  0.5 -0.5]\n",
      "CNOT(H ⊗ I)|Φ⁺⟩ = [ 0.5  0.5 -0.5  0.5]\n"
     ]
    }
   ],
   "source": [
    "H = hadamard()\n",
    "CNOT = cnot()\n",
    "I_2 = np.eye(2)\n",
    "\n",
    "# Applying the Hadamard and CNOT gate to the first Bell state\n",
    "Φ_00_H = tensor_prod(H, I_2) @ Φ_00\n",
    "Φ_00_H_CNOT = CNOT @ Φ_00_H\n",
    "\n",
    "print(f'|Φ⁺⟩ =             {Φ_00}')\n",
    "print(f'(H ⊗ I)|Φ⁺⟩ =     {Φ_00_H}')\n",
    "print(f'CNOT(H ⊗ I)|Φ⁺⟩ = {Φ_00_H_CNOT}')"
   ]
  },
  {
   "cell_type": "markdown",
   "metadata": {},
   "source": [
    "### Testing by Measuring Bell States"
   ]
  },
  {
   "cell_type": "code",
   "execution_count": 10,
   "metadata": {},
   "outputs": [],
   "source": [
    "# Making a measurment\n",
    "q1_results = {0: 0, 1: 0}\n",
    "q2_results = {0: 0, 1: 0}\n",
    "n = 10_000\n",
    "for i in range(n):\n",
    "    q1_res = measure_qubit(0, Φ_00)\n",
    "    q1_results[q1_res] += 1\n",
    "    \n",
    "    q2_res = measure_qubit(1, Φ_00)\n",
    "    q2_results[q2_res] += 1"
   ]
  },
  {
   "cell_type": "code",
   "execution_count": 11,
   "metadata": {},
   "outputs": [
    {
     "name": "stdout",
     "output_type": "stream",
     "text": [
      "Odds of measuring qubit 0 as 0:,  49.33%\n",
      "Odds of measuring qubit 0 as 1:,  50.67%\n"
     ]
    },
    {
     "data": {
      "image/png": "[encoded data removed]",
      "text/plain": [
       "<Figure size 640x480 with 1 Axes>"
      ]
     },
     "metadata": {},
     "output_type": "display_data"
    }
   ],
   "source": [
    "print(f'Odds of measuring qubit 0 as 0:, {q1_results[0]/n: .2%}')\n",
    "print(f'Odds of measuring qubit 0 as 1:, {q1_results[1]/n: .2%}')\n",
    "\n",
    "plt.bar(q1_results.keys(), q1_results.values())\n",
    "plt.xticks([0, 1])\n",
    "plt.title(\"Number of times qubit 0 has been measured as either 0 or 1\")\n",
    "plt.show()"
   ]
  },
  {
   "cell_type": "code",
   "execution_count": 12,
   "metadata": {},
   "outputs": [
    {
     "name": "stdout",
     "output_type": "stream",
     "text": [
      "Odds of measuring qubit 0 as 0:,  49.05%\n",
      "Odds of measuring qubit 0 as 1:,  50.95%\n"
     ]
    },
    {
     "data": {
      "image/png": "[encoded data removed]",
      "text/plain": [
       "<Figure size 640x480 with 1 Axes>"
      ]
     },
     "metadata": {},
     "output_type": "display_data"
    }
   ],
   "source": [
    "print(f'Odds of measuring qubit 0 as 0:, {q2_results[0]/n: .2%}')\n",
    "print(f'Odds of measuring qubit 0 as 1:, {q2_results[1]/n: .2%}')\n",
    "\n",
    "plt.bar(q2_results.keys(), q2_results.values())\n",
    "plt.xticks([0, 1])\n",
    "plt.title(\"Number of times qubit 1 has been measured as either 0 or 1\")\n",
    "plt.show()"
   ]
  },
  {
   "cell_type": "markdown",
   "metadata": {},
   "source": [
    "## Circuit and Measurements in Qiskit"
   ]
  },
  {
   "cell_type": "code",
   "execution_count": 13,
   "metadata": {},
   "outputs": [
    {
     "data": {
      "image/png": "[encoded data removed]",
      "text/plain": [
       "<Figure size 621.739x284.278 with 1 Axes>"
      ]
     },
     "execution_count": 13,
     "metadata": {},
     "output_type": "execute_result"
    }
   ],
   "source": [
    "qc = QuantumCircuit(2, 2)\n",
    "qc.h(0)\n",
    "qc.cx(0, 1)\n",
    "qc.h(0)\n",
    "qc.cx(0, 1)\n",
    "\n",
    "# Measureing the qubits\n",
    "qc.measure(1, 1)\n",
    "qc.measure(0, 0)\n",
    "qc.draw('mpl')"
   ]
  },
  {
   "cell_type": "code",
   "execution_count": 14,
   "metadata": {},
   "outputs": [
    {
     "name": "stdout",
     "output_type": "stream",
     "text": [
      "CNOT (H|Φ⁺⟩) (Qiskit):\n",
      "----------------------\n",
      "Odds of measuring both qubits as 0:                24.74%\n",
      "Odds of measuring qubit 0 as 0, and qubit 1 as 1:  24.34%\n",
      "Odds of measuring qubit 0 as 1, and qubit 1 as 0:  24.34%\n",
      "Odds of measuring both qubits as 1                 25.71%\n",
      "\n",
      "CNOT (H|Φ⁺⟩) (Python):\n",
      "----------------------\n",
      "Odds of measuring both qubits as 0:                24.80%\n",
      "Odds of measuring qubit 0 as 0, and qubit 1 as 1:  24.79%\n",
      "Odds of measuring qubit 0 as 1, and qubit 1 as 0:  25.35%\n",
      "Odds of measuring both qubits as 1:                25.05%\n"
     ]
    },
    {
     "data": {
      "image/png": "[encoded data removed]",
      "text/plain": [
       "<Figure size 640x480 with 1 Axes>"
      ]
     },
     "execution_count": 14,
     "metadata": {},
     "output_type": "execute_result"
    }
   ],
   "source": [
    "simulator = AerSimulator()\n",
    "n = 2**14\n",
    "results_qk = simulator.run(qc, shots=n).result().get_counts(qc)\n",
    "results_qk = dict(sorted(results_qk.items(), key=lambda x: x[0])) # Sort the results by bit string key\n",
    "q00, q01, q10, q11 = results_qk.values()\n",
    "\n",
    "print('CNOT (H|Φ⁺⟩) (Qiskit):')\n",
    "print('----------------------')\n",
    "print(f'Odds of measuring both qubits as 0:               {q00/n: .2%}')\n",
    "print(f'Odds of measuring qubit 0 as 0, and qubit 1 as 1: {q10/n: .2%}')\n",
    "print(f'Odds of measuring qubit 0 as 1, and qubit 1 as 0: {q10/n: .2%}')\n",
    "print(f'Odds of measuring both qubits as 1                {q11/n: .2%}')\n",
    "\n",
    "# Comparing with python implementation\n",
    "H = hadamard()\n",
    "CNOT = cnot()\n",
    "Φ_00 = create_bell_states()[0]\n",
    "\n",
    "state = CNOT @ tensor_prod(H, I_2) @ Φ_00\n",
    "\n",
    "results_py = {f'{i:02b}': 0 for i in range(4)}\n",
    "for i in range(n):\n",
    "    res = measure_all_qubits(state)\n",
    "    results_py[res] += 1\n",
    "\n",
    "q00, q01, q10, q11 = results_py.values()\n",
    "\n",
    "print()\n",
    "print('CNOT (H|Φ⁺⟩) (Python):')\n",
    "print('----------------------')\n",
    "print(f'Odds of measuring both qubits as 0:               {q00/n: .2%}')\n",
    "print(f'Odds of measuring qubit 0 as 0, and qubit 1 as 1: {q01/n: .2%}')\n",
    "print(f'Odds of measuring qubit 0 as 1, and qubit 1 as 0: {q10/n: .2%}')\n",
    "print(f'Odds of measuring both qubits as 1:               {q11/n: .2%}')\n",
    "plot_histogram([results_qk, results_py], title=\"Comparing Measurements in Qiskit and Python\", \n",
    "                                         legend=['Qiskit', 'Python'], \n",
    "                                         color=['crimson', 'midnightblue'])"
   ]
  },
  {
   "cell_type": "markdown",
   "metadata": {},
   "source": [
    "## Conclusion\n",
    "- As we can see, the qubit states can be combined to form composite states using the tensor product of $\\ket{0}$ and $\\ket{1}$.\n",
    "- We looked at the bell state $\\ket{Φ^{+}}$, in which both qubits are either in the state $\\ket{0}$, represented by ($\\ket{00}$), or $\\ket{1}$ represented by ($\\ket{11}$). \n",
    "- Applying a Hadamard and CNOT gate to $\\ket{Φ^{+}}$, we get the expected results of approximately a 25% chance of measuring either $\\ket{00}$, $\\ket{01}$, $\\ket{10}$  or $\\ket{11}$."
   ]
  }
 ],
 "metadata": {
  "kernelspec": {
   "display_name": "myenv",
   "language": "python",
   "name": "python3"
  },
  "language_info": {
   "codemirror_mode": {
    "name": "ipython",
    "version": 3
   },
   "file_extension": ".py",
   "mimetype": "text/x-python",
   "name": "python",
   "nbconvert_exporter": "python",
   "pygments_lexer": "ipython3",
   "version": "3.12.5"
  }
 },
 "nbformat": 4,
 "nbformat_minor": 2
}
